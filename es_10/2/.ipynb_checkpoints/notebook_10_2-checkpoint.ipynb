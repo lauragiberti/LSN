{
 "cells": [
  {
   "cell_type": "markdown",
   "metadata": {},
   "source": [
    "## ESERCIZIO 10.2\n",
    "\n",
    "in questo esercizio era richiesto di parallellizzare l'algoritmo genetico per risolvere il problema del commesso viaggiatore. \n",
    "in pratica dovevamo far girare l'algoritmo genetico su 4 nodi diversi e, ogni $N_{migr}$ generazioni, scambiare le informazioni tra i nodi sui migliori cammini. \n",
    "\n",
    "per farlo ho utilizzato la classe GA precedentemente realizzata e descritta nel notebook_9 e ho modificato opportunamente il main usando i comandi della libreria MPI.\n",
    "i comandi che ho usato sono:\n",
    "- MPI_Init(&argc,&argv) : per inizializzare\n",
    "- MPI_Comm_size(MPI_COMM_WORLD, &size) : per salvare in size il numero di nodi usati\n",
    "- MPI_Comm_rank(MPI_COMM_WORLD, &rank) : per salvare in rank, il rank di ogni nodo\n",
    "- MPI_Bcast(&best_path0, Nc, MPI_INTEGER, 0, MPI_COMM_WORLD) : per inviare dal rank 0 a tutti gli altri rank il vettore best_path0 (è una comunicazione bloccante)\n",
    "\n",
    "la mia idea era di far evolvere le generazioni per 500 volte su ogni nodo e scambiare informazioni tra i nodi ogni 10 nuove generazioni.\n",
    "in pratica:\n",
    "- si fa evolvere il sistema per 10 generazioni\n",
    "- si salvano i cammini migliori di ogni nodo nel vettore corrispondente: best_path0 per il migliore cammino del rank 0, best_path1 per il migliore cammino del rank 1...\n",
    "- si condivide il migliore cammino di ogni nodo con il comando MPI_Bcast()\n",
    "- si salvano i cammini ricevuti dagli altri rank nella nuova generazione"
   ]
  },
  {
   "cell_type": "code",
   "execution_count": null,
   "metadata": {},
   "outputs": [],
   "source": []
  }
 ],
 "metadata": {
  "kernelspec": {
   "display_name": "Python 3",
   "language": "python",
   "name": "python3"
  },
  "language_info": {
   "codemirror_mode": {
    "name": "ipython",
    "version": 3
   },
   "file_extension": ".py",
   "mimetype": "text/x-python",
   "name": "python",
   "nbconvert_exporter": "python",
   "pygments_lexer": "ipython3",
   "version": "3.8.3"
  }
 },
 "nbformat": 4,
 "nbformat_minor": 4
}
